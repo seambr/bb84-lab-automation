{
 "cells": [
  {
   "cell_type": "code",
   "execution_count": 12,
   "metadata": {},
   "outputs": [],
   "source": [
    "import numpy as np\n",
    "import pandas as pd\n",
    "import matplotlib.pyplot as plt\n",
    "import uuid\n",
    "# Settings\n",
    "plt.style.use(plt.style.available[0])\n",
    "pd.set_option('display.max_columns', 500)"
   ]
  },
  {
   "cell_type": "markdown",
   "metadata": {},
   "source": [
    "# Generating Data\n"
   ]
  },
  {
   "cell_type": "markdown",
   "metadata": {},
   "source": [
    "## No Eve\n"
   ]
  },
  {
   "cell_type": "code",
   "execution_count": 18,
   "metadata": {},
   "outputs": [],
   "source": [
    "for i in range(50):\n",
    "  N = 128\n",
    "  BASES = [\"R\",\"D\"]\n",
    "  BITS = [1,0]\n",
    "  alices_bases = np.random.choice(BASES,N)\n",
    "  alices_bits= np.random.randint(0,2,N)\n",
    "  bobs_bases = np.random.choice(BASES,N)\n",
    "  bobs_bits = np.random.randint(0,2,N)\n",
    "  bobs_bits[np.where(alices_bases==bobs_bases)] = alices_bits[np.where(alices_bases==bobs_bases)]\n",
    "\n",
    "  random_uuid = uuid.uuid4()\n",
    "\n",
    "  result = np.row_stack([alices_bases,alices_bits,bobs_bases,bobs_bits])\n",
    "\n",
    "  np.savetxt(F\"{random_uuid}.csv\",result,delimiter=\",\",fmt='%s')"
   ]
  },
  {
   "cell_type": "markdown",
   "metadata": {},
   "source": [
    "## With Eve\n"
   ]
  },
  {
   "cell_type": "code",
   "execution_count": null,
   "metadata": {},
   "outputs": [],
   "source": [
    "for i in range(50):\n",
    "  N = 128\n",
    "  BASES = [\"R\",\"D\"]\n",
    "  BITS = [1,0]\n",
    "  alices_bases = np.random.choice(BASES,N)\n",
    "  alices_bits= np.random.randint(0,2,N)\n",
    "  eves_bases = np.random.choice(BASES,N)\n",
    "  eves_bits= np.random.randint(0,2,N)\n",
    "  eves_bits[np.where(alices_bases==eves_bits)] = alices_bits[np.where(alices_bases==eves_bits)]\n",
    "\n",
    "  bobs_bases = np.random.choice(BASES,N)\n",
    "  bobs_bits = np.random.randint(0,2,N)\n",
    "  bobs_bits[np.where(eves_bases==bobs_bases)] = eves_bits[np.where(eves_bases==bobs_bases)]\n",
    "\n",
    "  random_uuid = uuid.uuid4()\n",
    "\n",
    "  result = np.row_stack([alices_bases,alices_bits,bobs_bases,bobs_bits])\n",
    "\n",
    "  np.savetxt(F\"{random_uuid}.csv\",result,delimiter=\",\",fmt='%s')"
   ]
  }
 ],
 "metadata": {
  "kernelspec": {
   "display_name": "jpter",
   "language": "python",
   "name": "python3"
  },
  "language_info": {
   "codemirror_mode": {
    "name": "ipython",
    "version": 3
   },
   "file_extension": ".py",
   "mimetype": "text/x-python",
   "name": "python",
   "nbconvert_exporter": "python",
   "pygments_lexer": "ipython3",
   "version": "3.11.4"
  }
 },
 "nbformat": 4,
 "nbformat_minor": 2
}
