{
 "cells": [
  {
   "cell_type": "code",
   "execution_count": 69,
   "metadata": {},
   "outputs": [],
   "source": [
    "import ipywidgets as widgets\n",
    "from IPython.display import display, HTML"
   ]
  },
  {
   "cell_type": "markdown",
   "metadata": {},
   "source": [
    "## Angle to ELL14 Hex Value\n"
   ]
  },
  {
   "cell_type": "code",
   "execution_count": 70,
   "metadata": {},
   "outputs": [
    {
     "data": {
      "application/vnd.jupyter.widget-view+json": {
       "model_id": "7d2ce06dfb944819873ae3340515cdf0",
       "version_major": 2,
       "version_minor": 0
      },
      "text/plain": [
       "BoundedFloatText(value=360.0, description='Angle:', max=360.0, step=0.1)"
      ]
     },
     "metadata": {},
     "output_type": "display_data"
    }
   ],
   "source": [
    "angle = 0\n",
    "angleWidget = widgets.BoundedFloatText(\n",
    "    value=360.0,\n",
    "    min=0.0,\n",
    "    max=360.0,\n",
    "    step=0.1,\n",
    "    description='Angle:',\n",
    "    disabled=False\n",
    ")\n",
    "\n",
    "hexWidget = widgets.Text(\n",
    "    value='',\n",
    "    placeholder='HEX VALUE HERE',\n",
    "    description='HEX:',\n",
    "    disabled=False   \n",
    ")\n",
    "\n",
    "def angleToHex(ang):\n",
    "\n",
    "  PULSES_PER_REVOLUTION = 262144\n",
    "  d = 360/PULSES_PER_REVOLUTION\n",
    "\n",
    "  print(F\"Angle: {ang}\")\n",
    "\n",
    "  base_10_value = round(ang/d)\n",
    "\n",
    "  print(f\"Double {base_10_value=}\")\n",
    "  base_16_value = hex(round(base_10_value/2)) #There are two motors so we divide by 2\n",
    "  formatted_hex = '{:0>8}'.format(base_16_value[2:]).upper()  # Pad the hexadecimal string\n",
    "  print(F\"ELL14 Position Hex: {formatted_hex}\")\n",
    "  display(HTML(\"<hr/>\"))\n",
    "\n",
    "\n",
    "def onChange1(x):\n",
    "  angle = x[\"new\"]\n",
    "  angleToHex(angle)\n",
    "\n",
    "\n",
    "angleWidget.observe(onChange1, names='value')\n",
    "\n",
    "\n",
    "display(angleWidget)"
   ]
  },
  {
   "cell_type": "markdown",
   "metadata": {},
   "source": [
    "## HEX to angle\n"
   ]
  },
  {
   "cell_type": "code",
   "execution_count": 71,
   "metadata": {},
   "outputs": [
    {
     "data": {
      "application/vnd.jupyter.widget-view+json": {
       "model_id": "707584d61fd04a6ea30dde1c7d67f281",
       "version_major": 2,
       "version_minor": 0
      },
      "text/plain": [
       "Text(value='', description='HEX:', placeholder='HEX VALUE HERE')"
      ]
     },
     "metadata": {},
     "output_type": "display_data"
    }
   ],
   "source": [
    "\n",
    "hexWidget = widgets.Text(\n",
    "    value='',\n",
    "    placeholder='HEX VALUE HERE',\n",
    "    description='HEX:',\n",
    "    disabled=False   \n",
    ")\n",
    "def hexToAngle(hex_value):\n",
    "    if len(hex_value) !=8:return\n",
    "    PULSES_PER_REVOLUTION = 262144\n",
    "    d = 360 / PULSES_PER_REVOLUTION\n",
    "    \n",
    "    decimal_value = 2*int(hex_value, 16)\n",
    "\n",
    "    print(F\"Hex Value: {hex_value}\")\n",
    "    print(F\"Decimal Value: {decimal_value}\")\n",
    "    print(F\"Angle: {d*decimal_value}\")\n",
    "    display(HTML(\"<hr/>\"))\n",
    "\n",
    "def onChange2(x):\n",
    "\n",
    "  hexToAngle(x[\"new\"])\n",
    "\n",
    "hexWidget.observe(onChange2, names='value')\n",
    "display(hexWidget)"
   ]
  }
 ],
 "metadata": {
  "kernelspec": {
   "display_name": "jpter",
   "language": "python",
   "name": "python3"
  },
  "language_info": {
   "codemirror_mode": {
    "name": "ipython",
    "version": 3
   },
   "file_extension": ".py",
   "mimetype": "text/x-python",
   "name": "python",
   "nbconvert_exporter": "python",
   "pygments_lexer": "ipython3",
   "version": "3.11.4"
  }
 },
 "nbformat": 4,
 "nbformat_minor": 2
}
