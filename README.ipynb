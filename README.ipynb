{
 "cells": [
  {
   "cell_type": "markdown",
   "metadata": {},
   "source": [
    "# BB84 Protocol\n",
    "\n",
    "## What is it?\n",
    "\n",
    "The BB84 protocol utilizes the uncertainty principle of quantum mechanics and a set of conjugate polarization states of light in order to generate a one time secret key, also known as a `one time pad`, that can be used to communicate securely. The destructive nature of quantum measurements ensures that anyone trying to eavesdrop on this key generation will have a high probability of disrupting the key generation process and thus be detected.\n",
    "\n",
    "## Why Does It Work?\n",
    "\n",
    "<img alt=\"theory_image\" src=\"images/snips/theory_snip.png\" class=\"theory-img\"></img>\n",
    "\n",
    "<style>\n",
    "  .theory-img{\n",
    "    max-width: 500px;\n",
    "  }\n",
    "</style>\n"
   ]
  },
  {
   "cell_type": "markdown",
   "metadata": {},
   "source": []
  }
 ],
 "metadata": {
  "language_info": {
   "name": "python"
  }
 },
 "nbformat": 4,
 "nbformat_minor": 2
}
